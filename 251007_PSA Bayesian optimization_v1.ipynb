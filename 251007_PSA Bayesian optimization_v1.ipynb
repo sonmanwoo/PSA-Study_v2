{
 "cells": [
  {
   "cell_type": "code",
   "execution_count": 2,
   "id": "a124460d",
   "metadata": {},
   "outputs": [],
   "source": [
    "from pycaret.regression import load_model, predict_model\n",
    "import pandas as pd\n",
    "from ax.service.managed_loop import optimize"
   ]
  },
  {
   "cell_type": "code",
   "execution_count": 3,
   "id": "01b5ea8f",
   "metadata": {},
   "outputs": [
    {
     "name": "stdout",
     "output_type": "stream",
     "text": [
      "Transformation Pipeline and Model Successfully Loaded\n",
      "Transformation Pipeline and Model Successfully Loaded\n",
      "Transformation Pipeline and Model Successfully Loaded\n"
     ]
    }
   ],
   "source": [
    "# 1. pycaret에서 기존에 구축한 모델 불러오기\n",
    "model_R = load_model('et_saved_220525_test3')\n",
    "model_P = load_model('et2_saved_220525_test3')\n",
    "model_V = load_model('et3_saved_220525_test3')\n",
    "# Load the test data from CSV into a DataFrame\n",
    "test_df = pd.read_csv('Test_data_ML-R9_220516_test3_MW.csv', encoding='cp949')"
   ]
  },
  {
   "cell_type": "code",
   "execution_count": null,
   "id": "20361854",
   "metadata": {},
   "outputs": [],
   "source": [
    "# 2. 모델이 잘 불러왔는지, 작동하는지 테스트 (test 데이터 csv를 이용)\n",
    "# test_results = predict_model(model_R, data=test_df)\n",
    "# print(test_results.head())\n",
    "# test_results = predict_model(model_P, data=test_df)\n",
    "# print(test_results.head())\n",
    "# test_results = predict_model(model_V, data=test_df)\n",
    "# print(test_results.head())"
   ]
  },
  {
   "cell_type": "code",
   "execution_count": 4,
   "id": "519644f0",
   "metadata": {},
   "outputs": [],
   "source": [
    "input_df = pd.read_csv('Bays_data_initial 10_251007.csv', encoding='cp949')"
   ]
  },
  {
   "cell_type": "code",
   "execution_count": 15,
   "id": "4ce99c34",
   "metadata": {},
   "outputs": [
    {
     "name": "stderr",
     "output_type": "stream",
     "text": [
      "[INFO 10-07 16:34:28] ax.service.utils.instantiation: Inferred value type of ParameterType.FLOAT for parameter Feed_rate_SLPM. If that is not the expected value type, you can explicitly specify 'value_type' ('int', 'float', 'bool' or 'str') in parameter dict.\n",
      "[INFO 10-07 16:34:28] ax.service.utils.instantiation: Inferred value type of ParameterType.FLOAT for parameter Rinse_rate_SLPM. If that is not the expected value type, you can explicitly specify 'value_type' ('int', 'float', 'bool' or 'str') in parameter dict.\n",
      "[INFO 10-07 16:34:28] ax.service.utils.instantiation: Inferred value type of ParameterType.FLOAT for parameter Pad_bar. If that is not the expected value type, you can explicitly specify 'value_type' ('int', 'float', 'bool' or 'str') in parameter dict.\n",
      "[INFO 10-07 16:34:28] ax.service.utils.instantiation: Inferred value type of ParameterType.FLOAT for parameter Pde_bar. If that is not the expected value type, you can explicitly specify 'value_type' ('int', 'float', 'bool' or 'str') in parameter dict.\n",
      "[INFO 10-07 16:34:28] ax.generation_strategy.dispatch_utils: Using Generators.BOTORCH_MODULAR since there is at least one ordered parameter and there are no unordered categorical parameters.\n",
      "[INFO 10-07 16:34:28] ax.generation_strategy.dispatch_utils: Using Bayesian Optimization generation strategy: GenerationStrategy(name='Sobol+BoTorch', steps=[Sobol for 8 trials, BoTorch for subsequent trials]). Iterations after 8 will take longer to generate due to model-fitting.\n",
      "[INFO 10-07 16:34:28] ax.service.managed_loop: Started full optimization with 20 steps.\n",
      "[INFO 10-07 16:34:28] ax.service.managed_loop: Running optimization trial 1...\n"
     ]
    },
    {
     "name": "stderr",
     "output_type": "stream",
     "text": [
      "[INFO 10-07 16:34:29] ax.service.managed_loop: Running optimization trial 2...\n",
      "[INFO 10-07 16:34:29] ax.service.managed_loop: Running optimization trial 3...\n",
      "[INFO 10-07 16:34:29] ax.service.managed_loop: Running optimization trial 4...\n",
      "[INFO 10-07 16:34:29] ax.service.managed_loop: Running optimization trial 5...\n",
      "[INFO 10-07 16:34:30] ax.service.managed_loop: Running optimization trial 6...\n",
      "[INFO 10-07 16:34:30] ax.service.managed_loop: Running optimization trial 7...\n",
      "[INFO 10-07 16:34:30] ax.service.managed_loop: Running optimization trial 8...\n",
      "[INFO 10-07 16:34:31] ax.service.managed_loop: Running optimization trial 9...\n",
      "[INFO 10-07 16:34:37] ax.service.managed_loop: Running optimization trial 10...\n",
      "[INFO 10-07 16:34:43] ax.service.managed_loop: Running optimization trial 11...\n",
      "[INFO 10-07 16:34:48] ax.service.managed_loop: Running optimization trial 12...\n",
      "[INFO 10-07 16:34:55] ax.service.managed_loop: Running optimization trial 13...\n",
      "[INFO 10-07 16:35:02] ax.service.managed_loop: Running optimization trial 14...\n",
      "[INFO 10-07 16:35:15] ax.service.managed_loop: Running optimization trial 15...\n",
      "[INFO 10-07 16:35:23] ax.service.managed_loop: Running optimization trial 16...\n",
      "[INFO 10-07 16:35:33] ax.service.managed_loop: Running optimization trial 17...\n",
      "[INFO 10-07 16:35:42] ax.service.managed_loop: Running optimization trial 18...\n",
      "[INFO 10-07 16:35:49] ax.service.managed_loop: Running optimization trial 19...\n",
      "[INFO 10-07 16:35:59] ax.service.managed_loop: Running optimization trial 20...\n"
     ]
    },
    {
     "name": "stdout",
     "output_type": "stream",
     "text": [
      "Best parameters found: {'Feed_rate_SLPM': 1.6799610048132445, 'Rinse_rate_SLPM': 0.8444925962646864, 'Pad_bar': 6.4, 'Pde_bar': 0.05}\n",
      "Best objective value: ({'objective': 100.37210138677126}, {'objective': {'objective': 0.4055991900150664}})\n"
     ]
    }
   ],
   "source": [
    "# 3. ax를 이용하여 해당 모델의 output 최적화 수행\n",
    "# 최적화할 파라미터 범위 정의 (예시: Feed rate, Rinse rate, Pad (bar), Pde (bar))\n",
    "def pycaret_predict(params):\n",
    "    # 컬럼 이름에 따라 파라메터 매핑\n",
    "    param_map = {\n",
    "        \"Feed_rate_SLPM\": \"Feed rate (SLPM)\",\n",
    "        \"Rinse_rate_SLPM\": \"Rinse rate (SLPM)\",\n",
    "        \"Pad_bar\": \"Pad (bar)\",\n",
    "        \"Pde_bar\": \"Pde (bar)\"\n",
    "    }\n",
    "    # 평균값을 기준으로 시작점 수립\n",
    "    updated_base = base.copy()\n",
    "    # 제안받은 파라메터 업데이트\n",
    "    for k, v in params.items():\n",
    "        updated_base[param_map[k]] = v\n",
    "    # 모델 데이터 입력 전 배열 맞추기\n",
    "    input_row_updated = {col: updated_base[col] for col in columns}\n",
    "    input_df_pred = pd.DataFrame([input_row_updated])\n",
    "    result = predict_model(model_R, data=input_df_pred)\n",
    "    # 모델 예측값을 출력\n",
    "    return result['prediction_label'].iloc[0]\n",
    "\n",
    "best_parameters, values, experiment, model = optimize(\n",
    "    parameters=[\n",
    "        {\"name\": \"Feed_rate_SLPM\", \"type\": \"range\", \"bounds\": [1.0, 10.0]},\n",
    "        {\"name\": \"Rinse_rate_SLPM\", \"type\": \"range\", \"bounds\": [0.5, 2.4]},\n",
    "        {\"name\": \"Pad_bar\", \"type\": \"range\", \"bounds\": [2.5, 6.4]},\n",
    "        {\"name\": \"Pde_bar\", \"type\": \"range\", \"bounds\": [0.05, 0.15]},\n",
    "    ],\n",
    "    evaluation_function=pycaret_predict, # 평가 함수로 pycaret 모델 예측 함수 사용\n",
    "    minimize=False, # True if minimizing the objective, False if maximizing\n",
    "    total_trials=20, # 총 시도 횟수\n",
    ")\n",
    "\n",
    "print(\"Best parameters found:\", best_parameters)\n",
    "print(\"Best objective value:\", values)"
   ]
  },
  {
   "cell_type": "code",
   "execution_count": null,
   "id": "9f1b8752",
   "metadata": {},
   "outputs": [],
   "source": []
  }
 ],
 "metadata": {
  "kernelspec": {
   "display_name": "PSA_v1",
   "language": "python",
   "name": "venv"
  },
  "language_info": {
   "codemirror_mode": {
    "name": "ipython",
    "version": 3
   },
   "file_extension": ".py",
   "mimetype": "text/x-python",
   "name": "python",
   "nbconvert_exporter": "python",
   "pygments_lexer": "ipython3",
   "version": "3.11.9"
  }
 },
 "nbformat": 4,
 "nbformat_minor": 5
}
